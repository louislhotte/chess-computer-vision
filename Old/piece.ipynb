{
 "cells": [
  {
   "cell_type": "markdown",
   "metadata": {},
   "source": [
    "<h1>\n",
    "<hr style=\" border:none; height:3px;\">\n",
    "<center>Computer Vision - Photo to Chess Board Project</center>\n",
    "<hr style=\" border:none; height:3px;\">\n",
    "</h1>\n",
    "\n",
    "<center><img src='https://netacad.centralesupelec.fr/img/cs.jpg' width=200></center>\n",
    "\n",
    "<h4><center>Louis LHOTTE | Paul-Alexandre MARENGHI</center></h4>"
   ]
  },
  {
   "cell_type": "markdown",
   "metadata": {},
   "source": [
    "# 0 - Imports"
   ]
  },
  {
   "cell_type": "code",
   "execution_count": 28,
   "metadata": {},
   "outputs": [],
   "source": [
    "from transformers import AutoProcessor, AutoModel\n",
    "import torch\n",
    "from PIL import Image\n",
    "import requests\n",
    "import os\n",
    "import torch\n",
    "import torch.nn.functional as F\n",
    "from torchvision import transforms\n",
    "from PIL import Image\n",
    "import cv2\n",
    "from collections import defaultdict\n",
    "\n",
    "model_name = \"facebook/dinov2-base\"\n",
    "processor = AutoProcessor.from_pretrained(model_name)\n",
    "device = torch.device(\"cuda\" if torch.cuda.is_available() else \"cpu\")\n",
    "model = AutoModel.from_pretrained(model_name).to(device)"
   ]
  },
  {
   "cell_type": "markdown",
   "metadata": {},
   "source": [
    "# I - Model"
   ]
  },
  {
   "cell_type": "code",
   "execution_count": 18,
   "metadata": {},
   "outputs": [],
   "source": [
    "transform = transforms.Compose([\n",
    "    transforms.Resize((224, 224)),\n",
    "    transforms.ToTensor(),\n",
    "    transforms.Normalize(\n",
    "        mean=[0.485, 0.456, 0.406],  # ImageNet stats\n",
    "        std=[0.229, 0.224, 0.225]\n",
    "    )\n",
    "])\n",
    "\n",
    "def embed_image(pil_img):\n",
    "    img = transform(pil_img).unsqueeze(0).to(device)\n",
    "    with torch.no_grad():\n",
    "        output = model(img)\n",
    "        emb = output.pooler_output  \n",
    "    return emb.squeeze(0)\n",
    "\n",
    "\n",
    "def load_reference_embeddings(ref_dir='./data/chess_pieces'):\n",
    "    embeddings = defaultdict(list)\n",
    "    for piece_type in os.listdir(ref_dir):\n",
    "        piece_folder = os.path.join(ref_dir, piece_type)\n",
    "        for fname in os.listdir(piece_folder):\n",
    "            fpath = os.path.join(piece_folder, fname)\n",
    "            img = Image.open(fpath).convert(\"RGB\")\n",
    "            emb = embed_image(img)\n",
    "            embeddings[piece_type].append(emb)\n",
    "    return {k: torch.stack(v).mean(dim=0) for k, v in embeddings.items()}\n",
    "\n",
    "def extract_board_squares(image_path):\n",
    "    img = cv2.imread(image_path)\n",
    "    img = cv2.cvtColor(img, cv2.COLOR_BGR2RGB)\n",
    "    h, w = img.shape[:2]\n",
    "    square_size = w // 8\n",
    "    squares = []\n",
    "    for row in range(8):\n",
    "        for col in range(8):\n",
    "            x1 = col * square_size\n",
    "            y1 = row * square_size\n",
    "            square_img = img[y1:y1+square_size, x1:x1+square_size]\n",
    "            pil_img = Image.fromarray(square_img)\n",
    "            squares.append(((row, col), pil_img))\n",
    "    return squares\n",
    "\n",
    "def classify_board(image_path, ref_embeddings):\n",
    "    board_state = {}\n",
    "    squares = extract_board_squares(image_path)\n",
    "\n",
    "    for (row, col), pil_img in squares:\n",
    "        square_emb = embed_image(pil_img)\n",
    "        best_label, best_score = None, -1\n",
    "        for label, ref_emb in ref_embeddings.items():\n",
    "            sim = F.cosine_similarity(square_emb, ref_emb, dim=0).item()\n",
    "            if sim > best_score:\n",
    "                best_score = sim\n",
    "                best_label = label\n",
    "        board_state[(row, col)] = best_label\n",
    "    return board_state"
   ]
  },
  {
   "cell_type": "code",
   "execution_count": 26,
   "metadata": {},
   "outputs": [],
   "source": [
    "def piece_to_symbol(piece_label):\n",
    "    if piece_label == \"empty\":\n",
    "        return \".\"\n",
    "    \n",
    "    piece_map = {\n",
    "        \"pawn\": \"p\",\n",
    "        \"rook\": \"r\",\n",
    "        \"knight\": \"n\",\n",
    "        \"bishop\": \"b\",\n",
    "        \"queen\": \"q\",\n",
    "        \"king\": \"k\"\n",
    "    }\n",
    "\n",
    "    name = piece_label.split(\"_\")[0]\n",
    "    symbol = piece_map.get(name, \"?\")\n",
    "    return symbol.lower()\n",
    "\n",
    "def print_board_pretty(board_dict):\n",
    "    board_grid = [[\".\" for _ in range(8)] for _ in range(8)]\n",
    "    \n",
    "    for (row, col), piece in board_dict.items():\n",
    "        symbol = piece_to_symbol(piece)\n",
    "        board_grid[row][col] = symbol\n",
    "\n",
    "    print()\n",
    "    for row in range(7, -1, -1):\n",
    "        print(f\"{row+1} \", end=\"\")\n",
    "        for col in range(8):\n",
    "            print(board_grid[row][col], end=\" \")\n",
    "        print()\n",
    "    print(\"  a b c d e f g h\\n\")"
   ]
  },
  {
   "cell_type": "markdown",
   "metadata": {},
   "source": [
    "# III - Detection"
   ]
  },
  {
   "cell_type": "code",
   "execution_count": 27,
   "metadata": {},
   "outputs": [
    {
     "name": "stdout",
     "output_type": "stream",
     "text": [
      "\n",
      "8 p r q q q p p r \n",
      "7 p q q q q q q r \n",
      "6 n q q q q q p r \n",
      "5 p q q q q q q r \n",
      "4 r q q q q q p r \n",
      "3 r r p q p p q n \n",
      "2 n q r n n n n n \n",
      "1 n r n r r r r n \n",
      "  a b c d e f g h\n",
      "\n"
     ]
    }
   ],
   "source": [
    "ref_embeddings = load_reference_embeddings('./data/chess_pieces')\n",
    "board = classify_board('./data/chessboard/chessboard_1.jpg', ref_embeddings)\n",
    "\n",
    "print_board_pretty(board)"
   ]
  },
  {
   "cell_type": "code",
   "execution_count": null,
   "metadata": {},
   "outputs": [],
   "source": []
  }
 ],
 "metadata": {
  "kernelspec": {
   "display_name": "Python 3",
   "language": "python",
   "name": "python3"
  },
  "language_info": {
   "codemirror_mode": {
    "name": "ipython",
    "version": 3
   },
   "file_extension": ".py",
   "mimetype": "text/x-python",
   "name": "python",
   "nbconvert_exporter": "python",
   "pygments_lexer": "ipython3",
   "version": "3.11.7"
  }
 },
 "nbformat": 4,
 "nbformat_minor": 2
}
